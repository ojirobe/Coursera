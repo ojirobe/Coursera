{
 "cells": [
  {
   "cell_type": "markdown",
   "id": "91c57e70",
   "metadata": {},
   "source": [
    " <h1>My Jupyter Notebook on IBM Watson Studio </h1>"
   ]
  },
  {
   "cell_type": "markdown",
   "id": "38c92536-2e49-4ed1-89a9-86494b3726bd",
   "metadata": {},
   "source": [
    "<strong> Ojirobe Yunusa Adavi </strong>\n",
    "\n",
    "Data Scientist"
   ]
  },
  {
   "cell_type": "markdown",
   "id": "889a207a-b593-4776-a11e-b2d78ae11800",
   "metadata": {},
   "source": [
    "<i> I am interested in Data Science because it is one of the fast growing and interesting field of study. I have a degree in Statistics, which further makes the field of Data Science interesting to me  </i>"
   ]
  },
  {
   "cell_type": "markdown",
   "id": "bce5fd7f-6de5-4e9f-a272-5510e49838c3",
   "metadata": {},
   "source": [
    "<h3> In cell 5, the code is used to subtract figure 1 from figure 3, resulting in an output of 2 </h3> "
   ]
  },
  {
   "cell_type": "code",
   "execution_count": 1,
   "id": "21c2d61a-e235-4bd5-97a9-c67b9a5d1d9e",
   "metadata": {},
   "outputs": [
    {
     "data": {
      "text/plain": [
       "2"
      ]
     },
     "execution_count": 1,
     "metadata": {},
     "output_type": "execute_result"
    }
   ],
   "source": [
    "3 - 1"
   ]
  },
  {
   "cell_type": "markdown",
   "id": "21d36d35-c7a8-4b59-b6f1-5c7e7e6c0da4",
   "metadata": {},
   "source": [
    "<ol>\n",
    "<li>Maths</li>\n",
    "<li>Science</li>\n",
    "<li>Data</li>\n",
    "</ol>\n",
    "<hr>\n",
    "<a href=\"google.com\">google website</a>"
   ]
  },
  {
   "cell_type": "code",
   "execution_count": null,
   "id": "8c853827-2219-4bf2-bd2e-d5500de2104c",
   "metadata": {},
   "outputs": [],
   "source": []
  }
 ],
 "metadata": {
  "kernelspec": {
   "display_name": "Python 3 (ipykernel)",
   "language": "python",
   "name": "python3"
  },
  "language_info": {
   "codemirror_mode": {
    "name": "ipython",
    "version": 3
   },
   "file_extension": ".py",
   "mimetype": "text/x-python",
   "name": "python",
   "nbconvert_exporter": "python",
   "pygments_lexer": "ipython3",
   "version": "3.9.13"
  }
 },
 "nbformat": 4,
 "nbformat_minor": 5
}
